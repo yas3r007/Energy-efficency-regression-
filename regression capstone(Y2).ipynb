{
 "cells": [
  {
   "cell_type": "code",
   "execution_count": 1,
   "id": "20a60864-0dfd-447f-bfbf-77a0ceda042e",
   "metadata": {},
   "outputs": [],
   "source": [
    "import numpy as np\n",
    "import pandas as pd\n",
    "import matplotlib.pyplot as plt\n",
    "import seaborn as sns\n",
    "\n",
    "\n",
    "import warnings\n",
    "warnings.simplefilter(\"ignore\")"
   ]
  },
  {
   "cell_type": "code",
   "execution_count": 2,
   "id": "24b6559c-f83e-4169-8d4e-859bcf71adc0",
   "metadata": {},
   "outputs": [],
   "source": [
    "from sklearn.model_selection import train_test_split\n",
    "from sklearn.linear_model import Ridge\n",
    "from sklearn.metrics import r2_score\n",
    "from sklearn.model_selection import GridSearchCV\n",
    "from sklearn.model_selection import cross_val_score"
   ]
  },
  {
   "cell_type": "code",
   "execution_count": 3,
   "id": "f42494ef-1081-44d4-922e-f15e66b1ba8f",
   "metadata": {},
   "outputs": [
    {
     "data": {
      "text/html": [
       "<div>\n",
       "<style scoped>\n",
       "    .dataframe tbody tr th:only-of-type {\n",
       "        vertical-align: middle;\n",
       "    }\n",
       "\n",
       "    .dataframe tbody tr th {\n",
       "        vertical-align: top;\n",
       "    }\n",
       "\n",
       "    .dataframe thead th {\n",
       "        text-align: right;\n",
       "    }\n",
       "</style>\n",
       "<table border=\"1\" class=\"dataframe\">\n",
       "  <thead>\n",
       "    <tr style=\"text-align: right;\">\n",
       "      <th></th>\n",
       "      <th>X1</th>\n",
       "      <th>X2</th>\n",
       "      <th>X3</th>\n",
       "      <th>X4</th>\n",
       "      <th>X5</th>\n",
       "      <th>X6</th>\n",
       "      <th>X7</th>\n",
       "      <th>X8</th>\n",
       "      <th>Y1</th>\n",
       "      <th>Y2</th>\n",
       "    </tr>\n",
       "  </thead>\n",
       "  <tbody>\n",
       "    <tr>\n",
       "      <th>0</th>\n",
       "      <td>0.98</td>\n",
       "      <td>514.5</td>\n",
       "      <td>294.0</td>\n",
       "      <td>110.25</td>\n",
       "      <td>7.0</td>\n",
       "      <td>2</td>\n",
       "      <td>0.0</td>\n",
       "      <td>0</td>\n",
       "      <td>15.55</td>\n",
       "      <td>21.33</td>\n",
       "    </tr>\n",
       "    <tr>\n",
       "      <th>1</th>\n",
       "      <td>0.98</td>\n",
       "      <td>514.5</td>\n",
       "      <td>294.0</td>\n",
       "      <td>110.25</td>\n",
       "      <td>7.0</td>\n",
       "      <td>3</td>\n",
       "      <td>0.0</td>\n",
       "      <td>0</td>\n",
       "      <td>15.55</td>\n",
       "      <td>21.33</td>\n",
       "    </tr>\n",
       "    <tr>\n",
       "      <th>2</th>\n",
       "      <td>0.98</td>\n",
       "      <td>514.5</td>\n",
       "      <td>294.0</td>\n",
       "      <td>110.25</td>\n",
       "      <td>7.0</td>\n",
       "      <td>4</td>\n",
       "      <td>0.0</td>\n",
       "      <td>0</td>\n",
       "      <td>15.55</td>\n",
       "      <td>21.33</td>\n",
       "    </tr>\n",
       "    <tr>\n",
       "      <th>3</th>\n",
       "      <td>0.98</td>\n",
       "      <td>514.5</td>\n",
       "      <td>294.0</td>\n",
       "      <td>110.25</td>\n",
       "      <td>7.0</td>\n",
       "      <td>5</td>\n",
       "      <td>0.0</td>\n",
       "      <td>0</td>\n",
       "      <td>15.55</td>\n",
       "      <td>21.33</td>\n",
       "    </tr>\n",
       "    <tr>\n",
       "      <th>4</th>\n",
       "      <td>0.90</td>\n",
       "      <td>563.5</td>\n",
       "      <td>318.5</td>\n",
       "      <td>122.50</td>\n",
       "      <td>7.0</td>\n",
       "      <td>2</td>\n",
       "      <td>0.0</td>\n",
       "      <td>0</td>\n",
       "      <td>20.84</td>\n",
       "      <td>28.28</td>\n",
       "    </tr>\n",
       "  </tbody>\n",
       "</table>\n",
       "</div>"
      ],
      "text/plain": [
       "     X1     X2     X3      X4   X5  X6   X7  X8     Y1     Y2\n",
       "0  0.98  514.5  294.0  110.25  7.0   2  0.0   0  15.55  21.33\n",
       "1  0.98  514.5  294.0  110.25  7.0   3  0.0   0  15.55  21.33\n",
       "2  0.98  514.5  294.0  110.25  7.0   4  0.0   0  15.55  21.33\n",
       "3  0.98  514.5  294.0  110.25  7.0   5  0.0   0  15.55  21.33\n",
       "4  0.90  563.5  318.5  122.50  7.0   2  0.0   0  20.84  28.28"
      ]
     },
     "execution_count": 3,
     "metadata": {},
     "output_type": "execute_result"
    }
   ],
   "source": [
    "data=pd.read_excel(\"ENB2012_data.xlsx\")\n",
    "data.head()"
   ]
  },
  {
   "cell_type": "code",
   "execution_count": 4,
   "id": "594276e1-a5f7-44df-bbca-2b6ae3e0f0b0",
   "metadata": {},
   "outputs": [
    {
     "name": "stdout",
     "output_type": "stream",
     "text": [
      "<class 'pandas.core.frame.DataFrame'>\n",
      "RangeIndex: 768 entries, 0 to 767\n",
      "Data columns (total 10 columns):\n",
      " #   Column  Non-Null Count  Dtype  \n",
      "---  ------  --------------  -----  \n",
      " 0   X1      768 non-null    float64\n",
      " 1   X2      768 non-null    float64\n",
      " 2   X3      768 non-null    float64\n",
      " 3   X4      768 non-null    float64\n",
      " 4   X5      768 non-null    float64\n",
      " 5   X6      768 non-null    int64  \n",
      " 6   X7      768 non-null    float64\n",
      " 7   X8      768 non-null    int64  \n",
      " 8   Y1      768 non-null    float64\n",
      " 9   Y2      768 non-null    float64\n",
      "dtypes: float64(8), int64(2)\n",
      "memory usage: 60.1 KB\n"
     ]
    }
   ],
   "source": [
    "data.info()"
   ]
  },
  {
   "cell_type": "code",
   "execution_count": 5,
   "id": "e9f162d7-ffd1-448e-8dea-2456c2171450",
   "metadata": {},
   "outputs": [
    {
     "data": {
      "text/plain": [
       "Index(['X1', 'X2', 'X3', 'X4', 'X5', 'X6', 'X7', 'X8', 'Y1', 'Y2'], dtype='object')"
      ]
     },
     "execution_count": 5,
     "metadata": {},
     "output_type": "execute_result"
    }
   ],
   "source": [
    "data.columns"
   ]
  },
  {
   "cell_type": "code",
   "execution_count": 6,
   "id": "ae1d7b7c-5654-4aff-8964-888ad321d471",
   "metadata": {},
   "outputs": [],
   "source": [
    "def plot_boxplot(data,ft):\n",
    "    data.boxplot(column=[ft])\n",
    "    plt.grid(False)\n",
    "    plt.show()"
   ]
  },
  {
   "cell_type": "code",
   "execution_count": 7,
   "id": "3278a297-4ebf-4b33-8d70-7fd5a30b82bd",
   "metadata": {},
   "outputs": [],
   "source": [
    "def outliers(data,ft):\n",
    "    Q1=data[ft].quantile(0.25)\n",
    "    Q3=data[ft].quantile(0.75)\n",
    "    IQR=Q3-Q1\n",
    "    lower_bound=Q1-1.5*IQR\n",
    "    upper_bound=Q3+1.5*IQR\n",
    "\n",
    "    ls=data.index[ (data[ft] < lower_bound) | (data[ft]> upper_bound) ]\n",
    "\n",
    "    return ls"
   ]
  },
  {
   "cell_type": "code",
   "execution_count": 8,
   "id": "6029bd26-86b8-4bd2-bd34-bea922be03f5",
   "metadata": {},
   "outputs": [
    {
     "data": {
      "text/plain": [
       "[]"
      ]
     },
     "execution_count": 8,
     "metadata": {},
     "output_type": "execute_result"
    }
   ],
   "source": [
    "index_list=[]\n",
    "for feature in ['X1', 'X2', 'X3', 'X4', 'X5', 'X6', 'X7', 'X8']:\n",
    "    index_list.extend(outliers(data,feature))\n",
    "index_list"
   ]
  },
  {
   "cell_type": "code",
   "execution_count": 9,
   "id": "1ba95305-2149-4507-a389-740e09e7be7f",
   "metadata": {},
   "outputs": [],
   "source": [
    "def remove(data,ls):\n",
    "    ls=sorted(set(ls))\n",
    "    data=data.drop(ls)\n",
    "    return data"
   ]
  },
  {
   "cell_type": "code",
   "execution_count": 10,
   "id": "993df55b-ac5c-45f0-8a92-30bc93393a65",
   "metadata": {},
   "outputs": [],
   "source": [
    "data_cleaned=remove(data,index_list)"
   ]
  },
  {
   "cell_type": "code",
   "execution_count": 11,
   "id": "9147fa75-8760-4141-9e31-d05d0fd8463a",
   "metadata": {},
   "outputs": [
    {
     "data": {
      "text/html": [
       "<div>\n",
       "<style scoped>\n",
       "    .dataframe tbody tr th:only-of-type {\n",
       "        vertical-align: middle;\n",
       "    }\n",
       "\n",
       "    .dataframe tbody tr th {\n",
       "        vertical-align: top;\n",
       "    }\n",
       "\n",
       "    .dataframe thead th {\n",
       "        text-align: right;\n",
       "    }\n",
       "</style>\n",
       "<table border=\"1\" class=\"dataframe\">\n",
       "  <thead>\n",
       "    <tr style=\"text-align: right;\">\n",
       "      <th></th>\n",
       "      <th>X1</th>\n",
       "      <th>X2</th>\n",
       "      <th>X3</th>\n",
       "      <th>X4</th>\n",
       "      <th>X5</th>\n",
       "      <th>X6</th>\n",
       "      <th>X7</th>\n",
       "      <th>X8</th>\n",
       "      <th>Y1</th>\n",
       "      <th>Y2</th>\n",
       "    </tr>\n",
       "  </thead>\n",
       "  <tbody>\n",
       "    <tr>\n",
       "      <th>0</th>\n",
       "      <td>0.98</td>\n",
       "      <td>514.5</td>\n",
       "      <td>294.0</td>\n",
       "      <td>110.25</td>\n",
       "      <td>7.0</td>\n",
       "      <td>2</td>\n",
       "      <td>0.0</td>\n",
       "      <td>0</td>\n",
       "      <td>15.55</td>\n",
       "      <td>21.33</td>\n",
       "    </tr>\n",
       "    <tr>\n",
       "      <th>1</th>\n",
       "      <td>0.98</td>\n",
       "      <td>514.5</td>\n",
       "      <td>294.0</td>\n",
       "      <td>110.25</td>\n",
       "      <td>7.0</td>\n",
       "      <td>3</td>\n",
       "      <td>0.0</td>\n",
       "      <td>0</td>\n",
       "      <td>15.55</td>\n",
       "      <td>21.33</td>\n",
       "    </tr>\n",
       "    <tr>\n",
       "      <th>2</th>\n",
       "      <td>0.98</td>\n",
       "      <td>514.5</td>\n",
       "      <td>294.0</td>\n",
       "      <td>110.25</td>\n",
       "      <td>7.0</td>\n",
       "      <td>4</td>\n",
       "      <td>0.0</td>\n",
       "      <td>0</td>\n",
       "      <td>15.55</td>\n",
       "      <td>21.33</td>\n",
       "    </tr>\n",
       "    <tr>\n",
       "      <th>3</th>\n",
       "      <td>0.98</td>\n",
       "      <td>514.5</td>\n",
       "      <td>294.0</td>\n",
       "      <td>110.25</td>\n",
       "      <td>7.0</td>\n",
       "      <td>5</td>\n",
       "      <td>0.0</td>\n",
       "      <td>0</td>\n",
       "      <td>15.55</td>\n",
       "      <td>21.33</td>\n",
       "    </tr>\n",
       "    <tr>\n",
       "      <th>4</th>\n",
       "      <td>0.90</td>\n",
       "      <td>563.5</td>\n",
       "      <td>318.5</td>\n",
       "      <td>122.50</td>\n",
       "      <td>7.0</td>\n",
       "      <td>2</td>\n",
       "      <td>0.0</td>\n",
       "      <td>0</td>\n",
       "      <td>20.84</td>\n",
       "      <td>28.28</td>\n",
       "    </tr>\n",
       "    <tr>\n",
       "      <th>...</th>\n",
       "      <td>...</td>\n",
       "      <td>...</td>\n",
       "      <td>...</td>\n",
       "      <td>...</td>\n",
       "      <td>...</td>\n",
       "      <td>...</td>\n",
       "      <td>...</td>\n",
       "      <td>...</td>\n",
       "      <td>...</td>\n",
       "      <td>...</td>\n",
       "    </tr>\n",
       "    <tr>\n",
       "      <th>763</th>\n",
       "      <td>0.64</td>\n",
       "      <td>784.0</td>\n",
       "      <td>343.0</td>\n",
       "      <td>220.50</td>\n",
       "      <td>3.5</td>\n",
       "      <td>5</td>\n",
       "      <td>0.4</td>\n",
       "      <td>5</td>\n",
       "      <td>17.88</td>\n",
       "      <td>21.40</td>\n",
       "    </tr>\n",
       "    <tr>\n",
       "      <th>764</th>\n",
       "      <td>0.62</td>\n",
       "      <td>808.5</td>\n",
       "      <td>367.5</td>\n",
       "      <td>220.50</td>\n",
       "      <td>3.5</td>\n",
       "      <td>2</td>\n",
       "      <td>0.4</td>\n",
       "      <td>5</td>\n",
       "      <td>16.54</td>\n",
       "      <td>16.88</td>\n",
       "    </tr>\n",
       "    <tr>\n",
       "      <th>765</th>\n",
       "      <td>0.62</td>\n",
       "      <td>808.5</td>\n",
       "      <td>367.5</td>\n",
       "      <td>220.50</td>\n",
       "      <td>3.5</td>\n",
       "      <td>3</td>\n",
       "      <td>0.4</td>\n",
       "      <td>5</td>\n",
       "      <td>16.44</td>\n",
       "      <td>17.11</td>\n",
       "    </tr>\n",
       "    <tr>\n",
       "      <th>766</th>\n",
       "      <td>0.62</td>\n",
       "      <td>808.5</td>\n",
       "      <td>367.5</td>\n",
       "      <td>220.50</td>\n",
       "      <td>3.5</td>\n",
       "      <td>4</td>\n",
       "      <td>0.4</td>\n",
       "      <td>5</td>\n",
       "      <td>16.48</td>\n",
       "      <td>16.61</td>\n",
       "    </tr>\n",
       "    <tr>\n",
       "      <th>767</th>\n",
       "      <td>0.62</td>\n",
       "      <td>808.5</td>\n",
       "      <td>367.5</td>\n",
       "      <td>220.50</td>\n",
       "      <td>3.5</td>\n",
       "      <td>5</td>\n",
       "      <td>0.4</td>\n",
       "      <td>5</td>\n",
       "      <td>16.64</td>\n",
       "      <td>16.03</td>\n",
       "    </tr>\n",
       "  </tbody>\n",
       "</table>\n",
       "<p>768 rows × 10 columns</p>\n",
       "</div>"
      ],
      "text/plain": [
       "       X1     X2     X3      X4   X5  X6   X7  X8     Y1     Y2\n",
       "0    0.98  514.5  294.0  110.25  7.0   2  0.0   0  15.55  21.33\n",
       "1    0.98  514.5  294.0  110.25  7.0   3  0.0   0  15.55  21.33\n",
       "2    0.98  514.5  294.0  110.25  7.0   4  0.0   0  15.55  21.33\n",
       "3    0.98  514.5  294.0  110.25  7.0   5  0.0   0  15.55  21.33\n",
       "4    0.90  563.5  318.5  122.50  7.0   2  0.0   0  20.84  28.28\n",
       "..    ...    ...    ...     ...  ...  ..  ...  ..    ...    ...\n",
       "763  0.64  784.0  343.0  220.50  3.5   5  0.4   5  17.88  21.40\n",
       "764  0.62  808.5  367.5  220.50  3.5   2  0.4   5  16.54  16.88\n",
       "765  0.62  808.5  367.5  220.50  3.5   3  0.4   5  16.44  17.11\n",
       "766  0.62  808.5  367.5  220.50  3.5   4  0.4   5  16.48  16.61\n",
       "767  0.62  808.5  367.5  220.50  3.5   5  0.4   5  16.64  16.03\n",
       "\n",
       "[768 rows x 10 columns]"
      ]
     },
     "execution_count": 11,
     "metadata": {},
     "output_type": "execute_result"
    }
   ],
   "source": [
    "data_cleaned"
   ]
  },
  {
   "cell_type": "code",
   "execution_count": 12,
   "id": "3d1d5c2b-82d6-495c-9fed-4206fc20db2d",
   "metadata": {},
   "outputs": [
    {
     "data": {
      "text/plain": [
       "X1    0\n",
       "X2    0\n",
       "X3    0\n",
       "X4    0\n",
       "X5    0\n",
       "X6    0\n",
       "X7    0\n",
       "X8    0\n",
       "Y1    0\n",
       "Y2    0\n",
       "dtype: int64"
      ]
     },
     "execution_count": 12,
     "metadata": {},
     "output_type": "execute_result"
    }
   ],
   "source": [
    "data_cleaned.isnull().sum()"
   ]
  },
  {
   "cell_type": "code",
   "execution_count": 13,
   "id": "5dd1b1e7-f804-4278-84b2-7e98ea0c8ac6",
   "metadata": {},
   "outputs": [],
   "source": [
    "data.drop(columns=[\"Y1\"],inplace=True)"
   ]
  },
  {
   "cell_type": "code",
   "execution_count": 14,
   "id": "0377d451-49a2-41da-9564-7b78a5bbbbdf",
   "metadata": {},
   "outputs": [],
   "source": [
    "X=data.drop(\"Y2\",axis=1)\n",
    "y=data[\"Y2\"]"
   ]
  },
  {
   "cell_type": "code",
   "execution_count": 15,
   "id": "6a3a32d8-0859-4a29-b1c1-b2465c8eaad1",
   "metadata": {},
   "outputs": [
    {
     "name": "stdout",
     "output_type": "stream",
     "text": [
      "Intercept: 104.64683727272477\n",
      "coefficients: [-7.42927324e+01 -2.65593079e+11  2.65593079e+11  5.31186159e+11\n",
      "  4.22007704e+00  1.49399564e-01  1.45671151e+01  2.33026743e-02]\n",
      "Train R2: 0.8904012016428184\n",
      "Test R2: 0.8762094726839106\n",
      "cross validation score: 0.8736880751499427\n"
     ]
    }
   ],
   "source": [
    "\n",
    "from sklearn.model_selection import train_test_split\n",
    "X_train,X_test,y_train,y_test=train_test_split(X,y,test_size=0.2,random_state=9)\n",
    "\n",
    "from sklearn.linear_model import LinearRegression\n",
    "model1=LinearRegression()\n",
    "model1.fit(X_train,y_train)\n",
    "\n",
    "from sklearn.model_selection import cross_val_score\n",
    "print(\"Intercept:\",model1.intercept_)\n",
    "print(\"coefficients:\",model1.coef_)\n",
    "\n",
    "train_predictions=model1.predict(X_train)\n",
    "test_predictions=model1.predict(X_test)\n",
    "\n",
    "print(\"Train R2:\",model1.score(X_train,y_train))\n",
    "print(\"Test R2:\",model1.score(X_test,y_test))\n",
    "print(\"cross validation score:\",cross_val_score(model1,X,y,cv=5).mean())"
   ]
  },
  {
   "cell_type": "code",
   "execution_count": 17,
   "id": "52d89758-e5df-4c30-8131-387a1b12daa6",
   "metadata": {},
   "outputs": [
    {
     "data": {
      "text/html": [
       "<table class=\"simpletable\">\n",
       "<caption>OLS Regression Results</caption>\n",
       "<tr>\n",
       "  <th>Dep. Variable:</th>            <td>y</td>        <th>  R-squared:         </th> <td>   0.888</td>\n",
       "</tr>\n",
       "<tr>\n",
       "  <th>Model:</th>                   <td>OLS</td>       <th>  Adj. R-squared:    </th> <td>   0.887</td>\n",
       "</tr>\n",
       "<tr>\n",
       "  <th>Method:</th>             <td>Least Squares</td>  <th>  F-statistic:       </th> <td>   859.1</td>\n",
       "</tr>\n",
       "<tr>\n",
       "  <th>Date:</th>             <td>Fri, 03 May 2024</td> <th>  Prob (F-statistic):</th>  <td>  0.00</td> \n",
       "</tr>\n",
       "<tr>\n",
       "  <th>Time:</th>                 <td>18:09:54</td>     <th>  Log-Likelihood:    </th> <td> -1979.3</td>\n",
       "</tr>\n",
       "<tr>\n",
       "  <th>No. Observations:</th>      <td>   768</td>      <th>  AIC:               </th> <td>   3975.</td>\n",
       "</tr>\n",
       "<tr>\n",
       "  <th>Df Residuals:</th>          <td>   760</td>      <th>  BIC:               </th> <td>   4012.</td>\n",
       "</tr>\n",
       "<tr>\n",
       "  <th>Df Model:</th>              <td>     7</td>      <th>                     </th>     <td> </td>   \n",
       "</tr>\n",
       "<tr>\n",
       "  <th>Covariance Type:</th>      <td>nonrobust</td>    <th>                     </th>     <td> </td>   \n",
       "</tr>\n",
       "</table>\n",
       "<table class=\"simpletable\">\n",
       "<tr>\n",
       "      <td></td>         <th>coef</th>     <th>std err</th>      <th>t</th>      <th>P>|t|</th>  <th>[0.025</th>    <th>0.975]</th>  \n",
       "</tr>\n",
       "<tr>\n",
       "  <th>Intercept</th> <td>   97.2457</td> <td>   20.765</td> <td>    4.683</td> <td> 0.000</td> <td>   56.483</td> <td>  138.009</td>\n",
       "</tr>\n",
       "<tr>\n",
       "  <th>X[0]</th>      <td>  -70.7877</td> <td>   11.225</td> <td>   -6.306</td> <td> 0.000</td> <td>  -92.824</td> <td>  -48.751</td>\n",
       "</tr>\n",
       "<tr>\n",
       "  <th>X[1]</th>      <td>   -0.0661</td> <td>    0.015</td> <td>   -4.519</td> <td> 0.000</td> <td>   -0.095</td> <td>   -0.037</td>\n",
       "</tr>\n",
       "<tr>\n",
       "  <th>X[2]</th>      <td>    0.0225</td> <td>    0.004</td> <td>    5.365</td> <td> 0.000</td> <td>    0.014</td> <td>    0.031</td>\n",
       "</tr>\n",
       "<tr>\n",
       "  <th>X[3]</th>      <td>   -0.0443</td> <td>    0.008</td> <td>   -5.404</td> <td> 0.000</td> <td>   -0.060</td> <td>   -0.028</td>\n",
       "</tr>\n",
       "<tr>\n",
       "  <th>X[4]</th>      <td>    4.2838</td> <td>    0.369</td> <td>   11.618</td> <td> 0.000</td> <td>    3.560</td> <td>    5.008</td>\n",
       "</tr>\n",
       "<tr>\n",
       "  <th>X[5]</th>      <td>    0.1215</td> <td>    0.103</td> <td>    1.176</td> <td> 0.240</td> <td>   -0.081</td> <td>    0.324</td>\n",
       "</tr>\n",
       "<tr>\n",
       "  <th>X[6]</th>      <td>   14.7171</td> <td>    0.888</td> <td>   16.573</td> <td> 0.000</td> <td>   12.974</td> <td>   16.460</td>\n",
       "</tr>\n",
       "<tr>\n",
       "  <th>X[7]</th>      <td>    0.0407</td> <td>    0.076</td> <td>    0.534</td> <td> 0.594</td> <td>   -0.109</td> <td>    0.190</td>\n",
       "</tr>\n",
       "</table>\n",
       "<table class=\"simpletable\">\n",
       "<tr>\n",
       "  <th>Omnibus:</th>       <td>104.668</td> <th>  Durbin-Watson:     </th> <td>   1.094</td>\n",
       "</tr>\n",
       "<tr>\n",
       "  <th>Prob(Omnibus):</th> <td> 0.000</td>  <th>  Jarque-Bera (JB):  </th> <td> 230.547</td>\n",
       "</tr>\n",
       "<tr>\n",
       "  <th>Skew:</th>          <td> 0.767</td>  <th>  Prob(JB):          </th> <td>8.65e-51</td>\n",
       "</tr>\n",
       "<tr>\n",
       "  <th>Kurtosis:</th>      <td> 5.203</td>  <th>  Cond. No.          </th> <td>1.09e+16</td>\n",
       "</tr>\n",
       "</table><br/><br/>Notes:<br/>[1] Standard Errors assume that the covariance matrix of the errors is correctly specified.<br/>[2] The smallest eigenvalue is 3.8e-24. This might indicate that there are<br/>strong multicollinearity problems or that the design matrix is singular."
      ],
      "text/latex": [
       "\\begin{center}\n",
       "\\begin{tabular}{lclc}\n",
       "\\toprule\n",
       "\\textbf{Dep. Variable:}    &        y         & \\textbf{  R-squared:         } &     0.888   \\\\\n",
       "\\textbf{Model:}            &       OLS        & \\textbf{  Adj. R-squared:    } &     0.887   \\\\\n",
       "\\textbf{Method:}           &  Least Squares   & \\textbf{  F-statistic:       } &     859.1   \\\\\n",
       "\\textbf{Date:}             & Fri, 03 May 2024 & \\textbf{  Prob (F-statistic):} &     0.00    \\\\\n",
       "\\textbf{Time:}             &     18:09:54     & \\textbf{  Log-Likelihood:    } &   -1979.3   \\\\\n",
       "\\textbf{No. Observations:} &         768      & \\textbf{  AIC:               } &     3975.   \\\\\n",
       "\\textbf{Df Residuals:}     &         760      & \\textbf{  BIC:               } &     4012.   \\\\\n",
       "\\textbf{Df Model:}         &           7      & \\textbf{                     } &             \\\\\n",
       "\\textbf{Covariance Type:}  &    nonrobust     & \\textbf{                     } &             \\\\\n",
       "\\bottomrule\n",
       "\\end{tabular}\n",
       "\\begin{tabular}{lcccccc}\n",
       "                   & \\textbf{coef} & \\textbf{std err} & \\textbf{t} & \\textbf{P$> |$t$|$} & \\textbf{[0.025} & \\textbf{0.975]}  \\\\\n",
       "\\midrule\n",
       "\\textbf{Intercept} &      97.2457  &       20.765     &     4.683  &         0.000        &       56.483    &      138.009     \\\\\n",
       "\\textbf{X[0]}      &     -70.7877  &       11.225     &    -6.306  &         0.000        &      -92.824    &      -48.751     \\\\\n",
       "\\textbf{X[1]}      &      -0.0661  &        0.015     &    -4.519  &         0.000        &       -0.095    &       -0.037     \\\\\n",
       "\\textbf{X[2]}      &       0.0225  &        0.004     &     5.365  &         0.000        &        0.014    &        0.031     \\\\\n",
       "\\textbf{X[3]}      &      -0.0443  &        0.008     &    -5.404  &         0.000        &       -0.060    &       -0.028     \\\\\n",
       "\\textbf{X[4]}      &       4.2838  &        0.369     &    11.618  &         0.000        &        3.560    &        5.008     \\\\\n",
       "\\textbf{X[5]}      &       0.1215  &        0.103     &     1.176  &         0.240        &       -0.081    &        0.324     \\\\\n",
       "\\textbf{X[6]}      &      14.7171  &        0.888     &    16.573  &         0.000        &       12.974    &       16.460     \\\\\n",
       "\\textbf{X[7]}      &       0.0407  &        0.076     &     0.534  &         0.594        &       -0.109    &        0.190     \\\\\n",
       "\\bottomrule\n",
       "\\end{tabular}\n",
       "\\begin{tabular}{lclc}\n",
       "\\textbf{Omnibus:}       & 104.668 & \\textbf{  Durbin-Watson:     } &    1.094  \\\\\n",
       "\\textbf{Prob(Omnibus):} &   0.000 & \\textbf{  Jarque-Bera (JB):  } &  230.547  \\\\\n",
       "\\textbf{Skew:}          &   0.767 & \\textbf{  Prob(JB):          } & 8.65e-51  \\\\\n",
       "\\textbf{Kurtosis:}      &   5.203 & \\textbf{  Cond. No.          } & 1.09e+16  \\\\\n",
       "\\bottomrule\n",
       "\\end{tabular}\n",
       "%\\caption{OLS Regression Results}\n",
       "\\end{center}\n",
       "\n",
       "Notes: \\newline\n",
       " [1] Standard Errors assume that the covariance matrix of the errors is correctly specified. \\newline\n",
       " [2] The smallest eigenvalue is 3.8e-24. This might indicate that there are \\newline\n",
       " strong multicollinearity problems or that the design matrix is singular."
      ],
      "text/plain": [
       "<class 'statsmodels.iolib.summary.Summary'>\n",
       "\"\"\"\n",
       "                            OLS Regression Results                            \n",
       "==============================================================================\n",
       "Dep. Variable:                      y   R-squared:                       0.888\n",
       "Model:                            OLS   Adj. R-squared:                  0.887\n",
       "Method:                 Least Squares   F-statistic:                     859.1\n",
       "Date:                Fri, 03 May 2024   Prob (F-statistic):               0.00\n",
       "Time:                        18:09:54   Log-Likelihood:                -1979.3\n",
       "No. Observations:                 768   AIC:                             3975.\n",
       "Df Residuals:                     760   BIC:                             4012.\n",
       "Df Model:                           7                                         \n",
       "Covariance Type:            nonrobust                                         \n",
       "==============================================================================\n",
       "                 coef    std err          t      P>|t|      [0.025      0.975]\n",
       "------------------------------------------------------------------------------\n",
       "Intercept     97.2457     20.765      4.683      0.000      56.483     138.009\n",
       "X[0]         -70.7877     11.225     -6.306      0.000     -92.824     -48.751\n",
       "X[1]          -0.0661      0.015     -4.519      0.000      -0.095      -0.037\n",
       "X[2]           0.0225      0.004      5.365      0.000       0.014       0.031\n",
       "X[3]          -0.0443      0.008     -5.404      0.000      -0.060      -0.028\n",
       "X[4]           4.2838      0.369     11.618      0.000       3.560       5.008\n",
       "X[5]           0.1215      0.103      1.176      0.240      -0.081       0.324\n",
       "X[6]          14.7171      0.888     16.573      0.000      12.974      16.460\n",
       "X[7]           0.0407      0.076      0.534      0.594      -0.109       0.190\n",
       "==============================================================================\n",
       "Omnibus:                      104.668   Durbin-Watson:                   1.094\n",
       "Prob(Omnibus):                  0.000   Jarque-Bera (JB):              230.547\n",
       "Skew:                           0.767   Prob(JB):                     8.65e-51\n",
       "Kurtosis:                       5.203   Cond. No.                     1.09e+16\n",
       "==============================================================================\n",
       "\n",
       "Notes:\n",
       "[1] Standard Errors assume that the covariance matrix of the errors is correctly specified.\n",
       "[2] The smallest eigenvalue is 3.8e-24. This might indicate that there are\n",
       "strong multicollinearity problems or that the design matrix is singular.\n",
       "\"\"\""
      ]
     },
     "execution_count": 17,
     "metadata": {},
     "output_type": "execute_result"
    }
   ],
   "source": [
    "import statsmodels.formula.api as smf\n",
    "model2=smf.ols(\"y~X\",data=data).fit()\n",
    "model2.summary()"
   ]
  },
  {
   "cell_type": "code",
   "execution_count": 18,
   "id": "063573de-d1c0-4112-aad8-e74af9dae839",
   "metadata": {},
   "outputs": [],
   "source": [
    "from sklearn.model_selection import train_test_split\n",
    "X_train,X_test,y_train,y_test=train_test_split(X,y,test_size=0.2,random_state=13)"
   ]
  },
  {
   "cell_type": "code",
   "execution_count": 19,
   "id": "babfdb7e-2eb7-4e64-87c1-0b6776064bef",
   "metadata": {},
   "outputs": [
    {
     "name": "stdout",
     "output_type": "stream",
     "text": [
      "Train RMSE: 1.5910842257428686\n",
      "Train R2: 0.9725984918427606\n",
      "Cross Validation Score: 0.9680747888673021\n"
     ]
    }
   ],
   "source": [
    "from sklearn.preprocessing import PolynomialFeatures\n",
    "polynomial_converter=PolynomialFeatures(degree=2)\n",
    "X_train_poly=pd.DataFrame(polynomial_converter.fit_transform(X_train))\n",
    "\n",
    "from sklearn.linear_model import LinearRegression\n",
    "model=LinearRegression()\n",
    "model.fit(X_train_poly,y_train)\n",
    "\n",
    "ypred_train=model.predict(X_train_poly)\n",
    "\n",
    "from sklearn.metrics import mean_squared_error,r2_score\n",
    "print(\"Train RMSE:\",np.sqrt(mean_squared_error(y_train,ypred_train)))\n",
    "print(\"Train R2:\",r2_score(y_train,ypred_train))\n",
    "\n",
    "from sklearn.model_selection import cross_val_score\n",
    "print(\"Cross Validation Score:\",cross_val_score(model,X_train_poly,y_train,cv=5).mean())\n"
   ]
  },
  {
   "cell_type": "code",
   "execution_count": 20,
   "id": "b99cef6f-892d-4282-a20a-35918d2d575b",
   "metadata": {},
   "outputs": [
    {
     "name": "stdout",
     "output_type": "stream",
     "text": [
      "Test RMSE: 1.6110761310224457\n",
      "Test R2: 0.9684801281625744\n"
     ]
    }
   ],
   "source": [
    "X_test_poly=pd.DataFrame(polynomial_converter.transform(X_test))\n",
    "\n",
    "ypred_test=model.predict(X_test_poly)\n",
    "\n",
    "print(\"Test RMSE:\",np.sqrt(mean_squared_error(y_test,ypred_test)))\n",
    "print(\"Test R2:\",r2_score(y_test,ypred_test))"
   ]
  },
  {
   "cell_type": "code",
   "execution_count": 21,
   "id": "ebd703e9-ddbc-463f-b94a-065b547569cb",
   "metadata": {},
   "outputs": [],
   "source": [
    "train_r2=[]\n",
    "test_r2=[]\n",
    "\n",
    "for i in range(1,10):\n",
    "    polynomial_converter=PolynomialFeatures(degree=i)\n",
    "    X_train_poly=pd.DataFrame(polynomial_converter.fit_transform(X_train))\n",
    "\n",
    "    model=LinearRegression()\n",
    "    model.fit(X_train_poly,y_train)\n",
    "\n",
    "    train_pred=model.predict(X_train_poly)\n",
    "    train_r2.append(model.score(X_train_poly,y_train))\n",
    "\n",
    "    X_test_poly=pd.DataFrame(polynomial_converter.transform(X_test))\n",
    "\n",
    "    test_pred=model.predict(X_test_poly)\n",
    "    test_r2.append(model.score(X_test_poly,y_test))"
   ]
  },
  {
   "cell_type": "code",
   "execution_count": 22,
   "id": "526a6adb-52c4-40a5-b791-0521e5df5601",
   "metadata": {},
   "outputs": [
    {
     "data": {
      "text/plain": [
       "[0.883872090591185,\n",
       " 0.9725984918427606,\n",
       " 0.978358784727319,\n",
       " 0.9854135481953693,\n",
       " 0.9829827733387856,\n",
       " 0.9715062712400391,\n",
       " 0.9890506268351831,\n",
       " 0.9873517964282635,\n",
       " 0.9923083930738784]"
      ]
     },
     "execution_count": 22,
     "metadata": {},
     "output_type": "execute_result"
    }
   ],
   "source": [
    "train_r2"
   ]
  },
  {
   "cell_type": "code",
   "execution_count": 23,
   "id": "c985a572-3ac0-4e76-b99c-d73d7aa56973",
   "metadata": {},
   "outputs": [
    {
     "data": {
      "text/plain": [
       "[0.9040091065249766,\n",
       " 0.9684801281625744,\n",
       " 0.9697420568174571,\n",
       " 0.9682139166344584,\n",
       " 0.9506171726505361,\n",
       " 0.9334795510542154,\n",
       " 0.9712099468052503,\n",
       " 0.9636661817787253,\n",
       " 0.9759334061425418]"
      ]
     },
     "execution_count": 23,
     "metadata": {},
     "output_type": "execute_result"
    }
   ],
   "source": [
    "test_r2"
   ]
  },
  {
   "cell_type": "code",
   "execution_count": 24,
   "id": "cdb78dec-908b-4af0-8c1a-fe72c6c3cbc9",
   "metadata": {},
   "outputs": [
    {
     "name": "stdout",
     "output_type": "stream",
     "text": [
      "train R2: 0.9923083930738784\n",
      "Cross validation score: 0.9145144334546125\n",
      "test R2: 0.9759334061425418\n"
     ]
    }
   ],
   "source": [
    "final_poly_converter=PolynomialFeatures(degree=9)\n",
    "X_train_poly=pd.DataFrame(final_poly_converter.fit_transform(X_train))\n",
    "\n",
    "final_model=LinearRegression()\n",
    "final_model.fit(X_train_poly,y_train)\n",
    "\n",
    "train_pred=final_model.predict(X_train_poly)\n",
    "print(\"train R2:\",final_model.score(X_train_poly,y_train))\n",
    "print(\"Cross validation score:\",cross_val_score(model,X_train_poly,y_train,cv=5).mean())\n",
    "\n",
    "X_test_poly=pd.DataFrame(final_poly_converter.transform(X_test))\n",
    "test_pred=final_model.predict(X_test_poly)\n",
    "print(\"test R2:\",final_model.score(X_test_poly,y_test))"
   ]
  },
  {
   "cell_type": "code",
   "execution_count": 25,
   "id": "2b262a27-bbd4-4747-88df-37623fd50781",
   "metadata": {},
   "outputs": [],
   "source": [
    "from sklearn.model_selection import train_test_split\n",
    "X_train,X_test,y_train,y_test=train_test_split(X,y,test_size=0.2,random_state=9)"
   ]
  },
  {
   "cell_type": "code",
   "execution_count": 26,
   "id": "36395b94-5250-42f3-baf8-4e6aa09ba222",
   "metadata": {},
   "outputs": [
    {
     "data": {
      "text/plain": [
       "{'alpha': 1}"
      ]
     },
     "execution_count": 26,
     "metadata": {},
     "output_type": "execute_result"
    }
   ],
   "source": [
    "from sklearn.model_selection import GridSearchCV\n",
    "\n",
    "from sklearn.linear_model import Lasso\n",
    "estimator=Lasso()\n",
    "param_grid={\"alpha\":list(range(1,100))}\n",
    "\n",
    "model_hp=GridSearchCV(estimator,param_grid,cv=5,scoring='r2')\n",
    "\n",
    "model_hp.fit(X_train,y_train)\n",
    "model_hp.best_params_"
   ]
  },
  {
   "cell_type": "code",
   "execution_count": 27,
   "id": "204a185e-3ee3-41cc-9505-c7c4012df3fb",
   "metadata": {},
   "outputs": [
    {
     "name": "stdout",
     "output_type": "stream",
     "text": [
      "Intercept: 42.08238216069576\n",
      "coefficients: [-0.         -0.0744876   0.11380447 -0.02124718  0.          0.\n",
      "  0.          0.        ]\n",
      "train r2: 0.7835329884836791\n",
      "Cv score: 0.7841305934842993\n",
      "test r2: 0.7521501602639129\n"
     ]
    }
   ],
   "source": [
    "from sklearn.linear_model import Lasso\n",
    "lasso_best=Lasso(alpha=1)\n",
    "lasso_best.fit(X_train,y_train)\n",
    "\n",
    "print(\"Intercept:\",lasso_best.intercept_)\n",
    "print(\"coefficients:\",lasso_best.coef_)\n",
    "\n",
    "ypred_train=lasso_best.predict(X_train)\n",
    "from sklearn.metrics import r2_score\n",
    "print(\"train r2:\",r2_score(y_train,ypred_train))\n",
    "from sklearn.model_selection import cross_val_score\n",
    "print(\"Cv score:\",cross_val_score(lasso_best,X_train,y_train,cv=5).mean())\n",
    "\n",
    "ypred_test=lasso_best.predict(X_test)\n",
    "print(\"test r2:\",r2_score(y_test,ypred_test))\n"
   ]
  },
  {
   "cell_type": "code",
   "execution_count": 28,
   "id": "c7d2aa7a-e628-4ce6-9abe-98bc0b55cef1",
   "metadata": {},
   "outputs": [
    {
     "data": {
      "text/plain": [
       "{'alpha': 1}"
      ]
     },
     "execution_count": 28,
     "metadata": {},
     "output_type": "execute_result"
    }
   ],
   "source": [
    "X_train,X_test,y_train,y_test=train_test_split(X,y,test_size=0.2,random_state=0)\n",
    "estimator=Ridge()\n",
    "\n",
    "param_grid={\"alpha\":list(range(1,100))}\n",
    "\n",
    "model_hp=GridSearchCV(estimator,param_grid,cv=5,scoring='r2')\n",
    "\n",
    "model_hp.fit(X_train,y_train)\n",
    "model_hp.best_params_"
   ]
  },
  {
   "cell_type": "code",
   "execution_count": 29,
   "id": "cc285774-9237-4c34-aee2-c346dc2b84fa",
   "metadata": {},
   "outputs": [
    {
     "name": "stdout",
     "output_type": "stream",
     "text": [
      "intercept: -22.44977660307275\n",
      "coefficients: [-3.96709868e+00  1.60396360e-02  2.18186321e-02 -2.88949790e-03\n",
      "  5.51599996e+00  1.59011534e-01  1.37677255e+01  4.99115596e-02]\n",
      "train r2: 0.8834509033212415\n",
      "cv Score: 0.8793228186737367\n",
      "test r2: 0.8779058723852833\n"
     ]
    }
   ],
   "source": [
    "ridge_best=Ridge(alpha=1)\n",
    "ridge_best.fit(X_train,y_train)\n",
    "\n",
    "print(\"intercept:\",ridge_best.intercept_)\n",
    "print(\"coefficients:\",ridge_best.coef_)\n",
    "\n",
    "ypred_train=ridge_best.predict(X_train)\n",
    "print(\"train r2:\",r2_score(y_train,ypred_train))\n",
    "print(\"cv Score:\",cross_val_score(ridge_best,X_train,y_train,cv=5).mean())\n",
    "\n",
    "ypred_test=ridge_best.predict(X_test)\n",
    "print(\"test r2:\",r2_score(y_test,ypred_test))"
   ]
  },
  {
   "cell_type": "code",
   "execution_count": 30,
   "id": "2c8b2f81-6176-49b8-9209-73adf69154aa",
   "metadata": {},
   "outputs": [
    {
     "name": "stdout",
     "output_type": "stream",
     "text": [
      "train R2: 0.7976503192922315\n",
      "test R2: 0.7664457404195439\n",
      "cross Validation Score: 0.7418988862088958\n"
     ]
    }
   ],
   "source": [
    "from sklearn.model_selection import train_test_split\n",
    "X_train,X_test,y_train,y_test=train_test_split(X,y,test_size=0.2,random_state=9)\n",
    "\n",
    "from sklearn.linear_model import ElasticNet\n",
    "enr_base=ElasticNet()\n",
    "enr_base.fit(X_train,y_train)\n",
    "\n",
    "train_predictions=enr_base.predict(X_train)\n",
    "test_predictions=enr_base.predict(X_test)\n",
    "\n",
    "print(\"train R2:\",enr_base.score(X_train,y_train))\n",
    "print(\"test R2:\",enr_base.score(X_test,y_test))\n",
    "from sklearn.model_selection import cross_val_score\n",
    "print(\"cross Validation Score:\",cross_val_score(enr_base,X,y,cv=5).mean())"
   ]
  },
  {
   "cell_type": "code",
   "execution_count": 31,
   "id": "feaa9fd9-c285-4ffb-8a07-1fe4de2e527b",
   "metadata": {},
   "outputs": [
    {
     "data": {
      "text/plain": [
       "{'alpha': 0.1, 'l1_ratio': 1}"
      ]
     },
     "execution_count": 31,
     "metadata": {},
     "output_type": "execute_result"
    }
   ],
   "source": [
    "from sklearn.model_selection import GridSearchCV\n",
    "\n",
    "estimator=ElasticNet()\n",
    "\n",
    "param_grid={\"alpha\":[0.1,0.2,1,2,3,5,10],\"l1_ratio\":[0.1,0.5,0.75,0.9,0.95,1]}\n",
    "\n",
    "model_hp=GridSearchCV(estimator,param_grid,cv=5,scoring='neg_mean_squared_error')\n",
    "model_hp.fit(X_train,y_train)\n",
    "model_hp.best_params_"
   ]
  },
  {
   "cell_type": "code",
   "execution_count": 32,
   "id": "ea1835e8-46de-4e99-b435-75f4244513e1",
   "metadata": {},
   "outputs": [
    {
     "name": "stdout",
     "output_type": "stream",
     "text": [
      "intercept: -21.516480927781096\n",
      "coefficients [-0.          0.01116796  0.028976   -0.          5.13387824  0.05528694\n",
      "  8.47714055  0.06524072]\n",
      "Train R2: 0.8763442838506421\n",
      "test R2: 0.8617207720568846\n",
      "cross validation score: 0.8370685533931695\n"
     ]
    }
   ],
   "source": [
    "enr_best=ElasticNet(alpha=0.1,l1_ratio=1)\n",
    "enr_best.fit(X_train,y_train)\n",
    "\n",
    "print(\"intercept:\",enr_best.intercept_)\n",
    "print(\"coefficients\",enr_best.coef_)\n",
    "\n",
    "train_predictions=enr_best.predict(X_train)\n",
    "test_predictions=enr_best.predict(X_test)\n",
    "\n",
    "print(\"Train R2:\",enr_best.score(X_train,y_train))\n",
    "print(\"test R2:\",enr_best.score(X_test,y_test))\n",
    "print(\"cross validation score:\",cross_val_score(enr_best,X,y,cv=5).mean())"
   ]
  },
  {
   "cell_type": "code",
   "execution_count": null,
   "id": "4e21808a-b021-4ea6-9c03-46d372660056",
   "metadata": {},
   "outputs": [],
   "source": []
  }
 ],
 "metadata": {
  "kernelspec": {
   "display_name": "Python 3 (ipykernel)",
   "language": "python",
   "name": "python3"
  },
  "language_info": {
   "codemirror_mode": {
    "name": "ipython",
    "version": 3
   },
   "file_extension": ".py",
   "mimetype": "text/x-python",
   "name": "python",
   "nbconvert_exporter": "python",
   "pygments_lexer": "ipython3",
   "version": "3.12.2"
  }
 },
 "nbformat": 4,
 "nbformat_minor": 5
}
